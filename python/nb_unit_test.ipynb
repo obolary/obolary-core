{
 "cells": [
  {
   "cell_type": "code",
   "execution_count": 1,
   "metadata": {},
   "outputs": [],
   "source": [
    "import io\n",
    "import os\n",
    "import sys\n",
    "import base64\n",
    "import json\n",
    "# API Token, lZ8P9Vw5VbtL20T9tafq6ZdmFOYglCo6Ou-t8Juj\n",
    "os.environ[ 's3_bucket' ] = 'ensi-ai-zi'\n",
    "os.environ[ 's3_enabled' ] = 'true'\n",
    "os.environ[ 's3_endpoint_url' ] = 'https://0c323972e3858e19e37a4a4b4f84d6c2.r2.cloudflarestorage.com'\n",
    "os.environ[ 's3_access_key' ] = 'ca030acfd5df1da49e70579c1cec126c'\n",
    "os.environ[ 's3_secret_access_key' ] = '47d4e638cb5ef12af4ebe7c36e4ee28f264de414d87d391e58ec35095b01a7b8'\n",
    "os.environ[ 's3_signature_version' ] = 's3v4'\n",
    "os.environ[ 's3_region_name' ] = 'auto'\n",
    "\n",
    "# prevent pycache generation\n",
    "os.environ[ 'PYTHONDONTWRITEBYTECODE' ] = '1'\n",
    "sys.dont_write_bytecode = True\n",
    "\n",
    "import obolary.resource as resource\n",
    "import obolary.rest as rest\n",
    "import obolary.log as log\n"
   ]
  },
  {
   "cell_type": "code",
   "execution_count": 2,
   "metadata": {},
   "outputs": [],
   "source": [
    "o = resource.Object()\n",
    "o.id = 'eyJLIjogIm9iamVjdCIsICJFIjogIjZhZWZlYjQ1LTBhNTgtNDExOS04NzA5LWZhMWU1NTEwMDQwZiJ9'\n",
    "c = rest.Context( owner_id = '', url = 'http://localhost' )\n"
   ]
  },
  {
   "cell_type": "code",
   "execution_count": 4,
   "metadata": {},
   "outputs": [
    {
     "name": "stdout",
     "output_type": "stream",
     "text": [
      "DEBUG | 2023-12-29 11:07:13.887891 | ipykernel_launcher.py | object.py:86 | set | None\n"
     ]
    },
    {
     "data": {
      "text/plain": [
       "(None, None)"
      ]
     },
     "execution_count": 4,
     "metadata": {},
     "output_type": "execute_result"
    }
   ],
   "source": [
    "o.set( c, 'ocr/test.txt', io.BytesIO( 'empty file for testing'.encode('ascii') ) )\n",
    "#o.set( c, 'boo.txt', io.BytesIO( 'hello'.encode('ascii') ) )\n"
   ]
  },
  {
   "cell_type": "code",
   "execution_count": 8,
   "metadata": {},
   "outputs": [
    {
     "name": "stdout",
     "output_type": "stream",
     "text": [
      "DEBUG | 2023-12-29 11:33:28.039509 | ipykernel_launcher.py | object.py:146 | list | {'ResponseMetadata': {'HTTPStatusCode': 200, 'HTTPHeaders': {'date': 'Fri, 29 Dec 2023 16:33:28 GMT', 'content-type': 'application/xml', 'content-length': '746', 'connection': 'keep-alive', 'vary': 'Accept-Encoding', 'server': 'cloudflare', 'cf-ray': '83d371e5bc0c7292-EWR'}, 'RetryAttempts': 0}, 'IsTruncated': False, 'Marker': '', 'Contents': [{'Key': 'eyJLIjogIm9iamVjdCIsICJFIjogIjZhZWZlYjQ1LTBhNTgtNDExOS04NzA5LWZhMWU1NTEwMDQwZiJ9/ocr/test.txt', 'LastModified': datetime.datetime(2023, 12, 29, 16, 7, 13, 846000, tzinfo=tzutc()), 'ETag': '\"a687dd3970bc6631d1ab09e910724def\"', 'Size': 22, 'StorageClass': 'STANDARD', 'Owner': {'DisplayName': '0c323972e3858e19e37a4a4b4f84d6c2', 'ID': '0c323972e3858e19e37a4a4b4f84d6c2'}}], 'Name': 'ensi-ai-zi', 'Prefix': 'eyJLIjogIm9iamVjdCIsICJFIjogIjZhZWZlYjQ1LTBhNTgtNDExOS04NzA5LWZhMWU1NTEwMDQwZiJ9/ocr/', 'Delimiter': '/', 'MaxKeys': 1000}\n"
     ]
    },
    {
     "data": {
      "text/plain": [
       "(['test.txt'], None)"
      ]
     },
     "execution_count": 8,
     "metadata": {},
     "output_type": "execute_result"
    }
   ],
   "source": [
    "o.list( c, 'ocr/' )"
   ]
  },
  {
   "cell_type": "code",
   "execution_count": 22,
   "metadata": {},
   "outputs": [
    {
     "data": {
      "text/plain": [
       "'eyJLIjogIm9iamVjdCIsICJFIjogIjZhZWZlYjQ1LTBhNTgtNDExOS04NzA5LWZhMWU1NTEwMDQwZiJ9'"
      ]
     },
     "execution_count": 22,
     "metadata": {},
     "output_type": "execute_result"
    }
   ],
   "source": [
    "o.id"
   ]
  },
  {
   "cell_type": "code",
   "execution_count": 3,
   "metadata": {},
   "outputs": [
    {
     "name": "stdout",
     "output_type": "stream",
     "text": [
      "DEBUG | 2023-12-29 11:38:10.896398 | ipykernel_launcher.py | object.py:66 | get | None\n",
      "<_io.BytesIO object at 0x10a018ea0> None\n",
      "empty file for testing\n"
     ]
    }
   ],
   "source": [
    "v, e = o.get( c, 'ocr/test.txt' )\n",
    "print( v, e)\n",
    "content = v.getvalue()\n",
    "print( content.decode( 'ascii' ) )"
   ]
  },
  {
   "cell_type": "code",
   "execution_count": 12,
   "metadata": {},
   "outputs": [
    {
     "name": "stdout",
     "output_type": "stream",
     "text": [
      "DEBUG | 2023-12-26 12:12:41.330718 | ipykernel_launcher.py | object.py:44 | delete | {'ResponseMetadata': {'HTTPStatusCode': 204, 'HTTPHeaders': {'date': 'Tue, 26 Dec 2023 17:12:41 GMT', 'connection': 'keep-alive', 'vary': 'Accept-Encoding', 'server': 'cloudflare', 'cf-ray': '83baf3381a1e7279-EWR'}, 'RetryAttempts': 0}}\n"
     ]
    }
   ],
   "source": [
    "o.delete( c, 'sally' )"
   ]
  },
  {
   "cell_type": "code",
   "execution_count": 8,
   "metadata": {},
   "outputs": [
    {
     "name": "stdout",
     "output_type": "stream",
     "text": [
      "K='object' E='17d1bfd7-57db-415d-a37a-8a98b7253cb8'\n",
      "eyJLIjogIm9iamVjdCIsICJFIjogIjE3ZDFiZmQ3LTU3ZGItNDE1ZC1hMzdhLThhOThiNzI1M2NiOCJ9\n"
     ]
    }
   ],
   "source": [
    "id = resource.Id.new( kind='object' )\n",
    "print( id )\n",
    "print( id.string() )\n"
   ]
  },
  {
   "cell_type": "code",
   "execution_count": 9,
   "metadata": {},
   "outputs": [
    {
     "name": "stdout",
     "output_type": "stream",
     "text": [
      "K='object' E='17d1bfd7-57db-415d-a37a-8a98b7253cb8'\n"
     ]
    }
   ],
   "source": [
    "z = resource.Id.decode( id.string() )\n",
    "print( z )"
   ]
  },
  {
   "cell_type": "code",
   "execution_count": 10,
   "metadata": {},
   "outputs": [
    {
     "name": "stdout",
     "output_type": "stream",
     "text": [
      "K='object' E='17d1bfd7-57db-415d-a37a-8a98b7253cb8'\n",
      "K='object' E='17d1bfd7-57db-415d-a37a-8a98b7253cb8'\n"
     ]
    }
   ],
   "source": [
    "print(id)\n",
    "print(z)"
   ]
  }
 ],
 "metadata": {
  "kernelspec": {
   "display_name": "ensiAiZi",
   "language": "python",
   "name": "python3"
  },
  "language_info": {
   "codemirror_mode": {
    "name": "ipython",
    "version": 3
   },
   "file_extension": ".py",
   "mimetype": "text/x-python",
   "name": "python",
   "nbconvert_exporter": "python",
   "pygments_lexer": "ipython3",
   "version": "3.11.7"
  }
 },
 "nbformat": 4,
 "nbformat_minor": 2
}
