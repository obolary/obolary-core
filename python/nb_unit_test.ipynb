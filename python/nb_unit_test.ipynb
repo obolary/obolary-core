{
 "cells": [
  {
   "cell_type": "code",
   "execution_count": 4,
   "metadata": {},
   "outputs": [],
   "source": [
    "import io\n",
    "import os\n",
    "import sys\n",
    "import base64\n",
    "import json\n",
    "\n",
    "os.environ[ 's3_bucket' ] = 'ensi-ai-zi'\n",
    "os.environ[ 's3_enabled' ] = 'true'\n",
    "os.environ[ 's3_endpoint_url' ] = 'https://0c323972e3858e19e37a4a4b4f84d6c2.r2.cloudflarestorage.com'\n",
    "os.environ[ 's3_access_key' ] = '9cf39c3cc5eb97d953028711803fcf12'\n",
    "os.environ[ 's3_secret_access_key' ] = 'e0b4a58c50fc4bd9b54893a3aa7032aea1650af6f162d1e8746f6539417dac01'\n",
    "os.environ[ 's3_signature_version' ] = 's3v4'\n",
    "os.environ[ 's3_region_name' ] = 'auto'\n",
    "\n",
    "# prevent pycache generation\n",
    "os.environ[ 'PYTHONDONTWRITEBYTECODE' ] = '1'\n",
    "sys.dont_write_bytecode = True\n",
    "\n",
    "import obolary.resource as resource\n",
    "import obolary.rest as rest\n",
    "import obolary.log as log\n"
   ]
  },
  {
   "cell_type": "code",
   "execution_count": 23,
   "metadata": {},
   "outputs": [],
   "source": [
    "o = resource.Object()\n",
    "o.id = 'eyJLIjogIm9iamVjdCIsICJFIjogIjZhZWZlYjQ1LTBhNTgtNDExOS04NzA5LWZhMWU1NTEwMDQwZiJ9'\n",
    "c = rest.Context( owner_id = '', url = 'http://localhost' )\n"
   ]
  },
  {
   "cell_type": "code",
   "execution_count": 18,
   "metadata": {},
   "outputs": [
    {
     "name": "stdout",
     "output_type": "stream",
     "text": [
      "DEBUG | 2023-12-26 12:14:43.485896 | ipykernel_launcher.py | object.py:86 | set | None\n",
      "DEBUG | 2023-12-26 12:14:44.123861 | ipykernel_launcher.py | object.py:86 | set | None\n"
     ]
    },
    {
     "data": {
      "text/plain": [
       "(None, None)"
      ]
     },
     "execution_count": 18,
     "metadata": {},
     "output_type": "execute_result"
    }
   ],
   "source": [
    "o.set( c, 'sally/foo.txt', io.BytesIO( 'hello'.encode('ascii') ) )\n",
    "o.set( c, 'boo.txt', io.BytesIO( 'hello'.encode('ascii') ) )\n"
   ]
  },
  {
   "cell_type": "code",
   "execution_count": 24,
   "metadata": {},
   "outputs": [
    {
     "name": "stdout",
     "output_type": "stream",
     "text": [
      "DEBUG | 2023-12-26 12:48:23.774423 | ipykernel_launcher.py | object.py:102 | list | {'ResponseMetadata': {'HTTPStatusCode': 200, 'HTTPHeaders': {'date': 'Tue, 26 Dec 2023 17:48:23 GMT', 'content-type': 'application/xml', 'content-length': '873', 'connection': 'keep-alive', 'vary': 'Accept-Encoding', 'server': 'cloudflare', 'cf-ray': '83bb2787df35428b-EWR'}, 'RetryAttempts': 0}, 'IsTruncated': False, 'Marker': '', 'Contents': [{'Key': 'eyJLIjogIm9iamVjdCIsICJFIjogIjZhZWZlYjQ1LTBhNTgtNDExOS04NzA5LWZhMWU1NTEwMDQwZiJ9/boo.txt', 'LastModified': datetime.datetime(2023, 12, 26, 17, 14, 43, 842000, tzinfo=tzutc()), 'ETag': '\"5d41402abc4b2a76b9719d911017c592\"', 'Size': 5, 'StorageClass': 'STANDARD', 'Owner': {'DisplayName': '0c323972e3858e19e37a4a4b4f84d6c2', 'ID': '0c323972e3858e19e37a4a4b4f84d6c2'}}], 'Name': 'ensi-ai-zi', 'Prefix': 'eyJLIjogIm9iamVjdCIsICJFIjogIjZhZWZlYjQ1LTBhNTgtNDExOS04NzA5LWZhMWU1NTEwMDQwZiJ9/', 'Delimiter': '/', 'MaxKeys': 1000, 'CommonPrefixes': [{'Prefix': 'eyJLIjogIm9iamVjdCIsICJFIjogIjZhZWZlYjQ1LTBhNTgtNDExOS04NzA5LWZhMWU1NTEwMDQwZiJ9/sally/'}]}\n"
     ]
    },
    {
     "data": {
      "text/plain": [
       "(None, None)"
      ]
     },
     "execution_count": 24,
     "metadata": {},
     "output_type": "execute_result"
    }
   ],
   "source": [
    "o.list( c, '' )"
   ]
  },
  {
   "cell_type": "code",
   "execution_count": 22,
   "metadata": {},
   "outputs": [
    {
     "data": {
      "text/plain": [
       "'eyJLIjogIm9iamVjdCIsICJFIjogIjZhZWZlYjQ1LTBhNTgtNDExOS04NzA5LWZhMWU1NTEwMDQwZiJ9'"
      ]
     },
     "execution_count": 22,
     "metadata": {},
     "output_type": "execute_result"
    }
   ],
   "source": [
    "o.id"
   ]
  },
  {
   "cell_type": "code",
   "execution_count": 6,
   "metadata": {},
   "outputs": [
    {
     "name": "stdout",
     "output_type": "stream",
     "text": [
      "DEBUG | 2023-12-21 07:50:09.677995 | ipykernel_launcher.py | object.py:50 | get | None\n",
      "DEBUG | 2023-12-21 07:50:09.685280 | ipykernel_launcher.py | object.py:51 | get | b'hello'\n"
     ]
    },
    {
     "data": {
      "text/plain": [
       "(None, None)"
      ]
     },
     "execution_count": 6,
     "metadata": {},
     "output_type": "execute_result"
    }
   ],
   "source": [
    "o.get( None, 'sally/foo.txt' )\n"
   ]
  },
  {
   "cell_type": "code",
   "execution_count": 12,
   "metadata": {},
   "outputs": [
    {
     "name": "stdout",
     "output_type": "stream",
     "text": [
      "DEBUG | 2023-12-26 12:12:41.330718 | ipykernel_launcher.py | object.py:44 | delete | {'ResponseMetadata': {'HTTPStatusCode': 204, 'HTTPHeaders': {'date': 'Tue, 26 Dec 2023 17:12:41 GMT', 'connection': 'keep-alive', 'vary': 'Accept-Encoding', 'server': 'cloudflare', 'cf-ray': '83baf3381a1e7279-EWR'}, 'RetryAttempts': 0}}\n"
     ]
    }
   ],
   "source": [
    "o.delete( c, 'sally' )"
   ]
  },
  {
   "cell_type": "code",
   "execution_count": 8,
   "metadata": {},
   "outputs": [
    {
     "name": "stdout",
     "output_type": "stream",
     "text": [
      "K='object' E='17d1bfd7-57db-415d-a37a-8a98b7253cb8'\n",
      "eyJLIjogIm9iamVjdCIsICJFIjogIjE3ZDFiZmQ3LTU3ZGItNDE1ZC1hMzdhLThhOThiNzI1M2NiOCJ9\n"
     ]
    }
   ],
   "source": [
    "id = resource.Id.new( kind='object' )\n",
    "print( id )\n",
    "print( id.string() )\n"
   ]
  },
  {
   "cell_type": "code",
   "execution_count": 9,
   "metadata": {},
   "outputs": [
    {
     "name": "stdout",
     "output_type": "stream",
     "text": [
      "K='object' E='17d1bfd7-57db-415d-a37a-8a98b7253cb8'\n"
     ]
    }
   ],
   "source": [
    "z = resource.Id.decode( id.string() )\n",
    "print( z )"
   ]
  },
  {
   "cell_type": "code",
   "execution_count": 10,
   "metadata": {},
   "outputs": [
    {
     "name": "stdout",
     "output_type": "stream",
     "text": [
      "K='object' E='17d1bfd7-57db-415d-a37a-8a98b7253cb8'\n",
      "K='object' E='17d1bfd7-57db-415d-a37a-8a98b7253cb8'\n"
     ]
    }
   ],
   "source": [
    "print(id)\n",
    "print(z)"
   ]
  }
 ],
 "metadata": {
  "kernelspec": {
   "display_name": "ensiAiZi",
   "language": "python",
   "name": "python3"
  },
  "language_info": {
   "codemirror_mode": {
    "name": "ipython",
    "version": 3
   },
   "file_extension": ".py",
   "mimetype": "text/x-python",
   "name": "python",
   "nbconvert_exporter": "python",
   "pygments_lexer": "ipython3",
   "version": "3.11.7"
  }
 },
 "nbformat": 4,
 "nbformat_minor": 2
}
